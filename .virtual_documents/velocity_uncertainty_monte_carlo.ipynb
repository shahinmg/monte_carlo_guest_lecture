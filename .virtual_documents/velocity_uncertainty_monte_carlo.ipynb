





















































import numpy as np 
import matplotlib.pyplot as plt 





def uniform_pdf(x, a, b):
    return np.where((x >= a) & (x <= b), 1 / (b - a), 0)

x = np.linspace(-1, 3, 1000)
y = uniform_pdf(x, 0, 2)

plt.plot(x, y)
plt.title('PDF of Uniform Distribution')
plt.xlabel('x')
plt.ylabel('f(x)')
plt.ylim(0, 0.6)
plt.show()








n_samples = int(1e6) # number of samples to take within our uncertainty radius
r = 0.07 # our uncertainty radius in meters


def circle_sample(n_samples, r, x_off=0, y_off=0):
    """
    Randomly sample locations within a cirlce with a uniform probability distribution 

        Parameters
    ----------
    n_samples : int
        Number of samples to take
    r : float
        Error radius of circle
    x_off : float
        offset in x direction. How far the feature moved in the x direction.

    y_off : float
        offset in y direction. How far the feature moved in the y direction.
        
        Returns
    -------
    x : float
        Length of the returned string.
    y : float
        String of random letters.
    a : float
        Length of the returned string.
    b : float
        String of random letters. 
    """
    
    # make a unit circle 
    print(f'n samples:{n_samples}')
    
    theta = np.linspace(0, 2*np.pi, n_samples)
    a, b = r * np.cos(theta) + x_off, r * np.sin(theta) + y_off
    
    t = np.random.uniform(0, 1, size=n_samples)
    u = np.random.uniform(0, 1, size=n_samples)
    
    x = (r*np.sqrt(t) * np.cos(2*np.pi*u)) + x_off
    y = (r*np.sqrt(t) * np.sin(2*np.pi*u)) + y_off
    

    return x, y, a, b    


def circle_plot(x, y, a, b, x_off=0, y_off=0):
    
    # Plotting
    plt.figure(figsize=(7,7))
    plt.plot(a, b, linestyle='-', linewidth=2, label='Circle', color='red')
    plt.scatter(x, y, marker='o',  label='Samples')
    
    # plt.ylim([-r*1.5,r*1.5])
    # plt.xlim([-r*1.5,r*1.5])
    plt.grid()
    plt.legend(loc='upper right')
    plt.show(block=True)
